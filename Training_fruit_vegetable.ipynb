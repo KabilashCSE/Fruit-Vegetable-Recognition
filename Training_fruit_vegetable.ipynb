{
  "nbformat": 4,
  "nbformat_minor": 0,
  "metadata": {
    "colab": {
      "provenance": [],
      "gpuType": "T4"
    },
    "kernelspec": {
      "name": "python3",
      "display_name": "Python 3"
    },
    "language_info": {
      "name": "python"
    },
    "accelerator": "GPU"
  },
  "cells": [
    {
      "cell_type": "markdown",
      "source": [
        "Importing Dataset"
      ],
      "metadata": {
        "id": "alPYJTKcyCA3"
      }
    },
    {
      "cell_type": "code",
      "source": [
        "from google.colab import drive\n",
        "drive.mount('/content/drive')"
      ],
      "metadata": {
        "colab": {
          "base_uri": "https://localhost:8080/"
        },
        "id": "pkcBVxfDyEO4",
        "outputId": "310ae69f-0f96-4643-d972-6dc88a1e26fb"
      },
      "execution_count": null,
      "outputs": [
        {
          "output_type": "stream",
          "name": "stdout",
          "text": [
            "Drive already mounted at /content/drive; to attempt to forcibly remount, call drive.mount(\"/content/drive\", force_remount=True).\n"
          ]
        }
      ]
    },
    {
      "cell_type": "markdown",
      "source": [
        "#IMporting Libraries\n"
      ],
      "metadata": {
        "id": "90Hza7oozm5s"
      }
    },
    {
      "cell_type": "code",
      "source": [
        "import numpy as np\n",
        "import tensorflow as tf\n",
        "import matplotlib.pyplot as plt\n",
        "from tensorflow.keras import layers\n",
        "from tensorflow.keras.models import Model"
      ],
      "metadata": {
        "id": "Xnk2OxK8zpWm"
      },
      "execution_count": null,
      "outputs": []
    },
    {
      "cell_type": "markdown",
      "source": [
        "Data Preprocessing"
      ],
      "metadata": {
        "id": "CJK9FyXKz8CL"
      }
    },
    {
      "cell_type": "code",
      "source": [],
      "metadata": {
        "id": "p7scGUuDz9TJ"
      },
      "execution_count": null,
      "outputs": []
    },
    {
      "cell_type": "markdown",
      "source": [
        "#Training Image Preprocessing"
      ],
      "metadata": {
        "id": "fl6x4Qdd0IlG"
      }
    },
    {
      "cell_type": "code",
      "source": [
        "training_set=tf.keras.utils.image_dataset_from_directory(\n",
        "    '/content/drive/MyDrive/Fruit_Vegetable_Recognition/train',\n",
        "    labels='inferred',\n",
        "    label_mode='categorical',\n",
        "    class_names=None,\n",
        "    color_mode='rgb',\n",
        "    batch_size=32,\n",
        "    image_size=(64,64),\n",
        "    shuffle=True,\n",
        "    seed=None,\n",
        "    validation_split=None,\n",
        "    subset=None,\n",
        "    interpolation='bilinear',\n",
        "    follow_links=False,\n",
        "    crop_to_aspect_ratio=False\n",
        ")"
      ],
      "metadata": {
        "colab": {
          "base_uri": "https://localhost:8080/"
        },
        "id": "An1BK8kD0MXv",
        "outputId": "b745f83c-fbf5-4154-9d8e-fe8b2581267c"
      },
      "execution_count": null,
      "outputs": [
        {
          "output_type": "stream",
          "name": "stdout",
          "text": [
            "Found 3115 files belonging to 36 classes.\n"
          ]
        }
      ]
    },
    {
      "cell_type": "code",
      "source": [],
      "metadata": {
        "id": "XLqVRTEHon1O"
      },
      "execution_count": null,
      "outputs": []
    },
    {
      "cell_type": "markdown",
      "source": [
        "#Validation Image Preprocessing"
      ],
      "metadata": {
        "id": "agjhWYi7o5jy"
      }
    },
    {
      "cell_type": "code",
      "source": [
        "validation_set=tf.keras.utils.image_dataset_from_directory(\n",
        "    '/content/drive/MyDrive/Fruit_Vegetable_Recognition/validation',\n",
        "    labels=\"inferred\",\n",
        "    label_mode=\"categorical\",\n",
        "    class_names=None,\n",
        "    color_mode=\"rgb\",\n",
        "    batch_size=32,\n",
        "    image_size=(64, 64),\n",
        "    shuffle=True,\n",
        "    seed=None,\n",
        "    validation_split=None,\n",
        "    subset=None,\n",
        "    interpolation=\"bilinear\",\n",
        "    follow_links=False,\n",
        "    crop_to_aspect_ratio=False\n",
        ")"
      ],
      "metadata": {
        "colab": {
          "base_uri": "https://localhost:8080/"
        },
        "id": "xjzkruRXo-Sc",
        "outputId": "4be78750-593a-48ff-98d5-7bf684af7ed3"
      },
      "execution_count": null,
      "outputs": [
        {
          "output_type": "stream",
          "name": "stdout",
          "text": [
            "Found 351 files belonging to 36 classes.\n"
          ]
        }
      ]
    },
    {
      "cell_type": "code",
      "source": [],
      "metadata": {
        "id": "rwsbCH32prxQ"
      },
      "execution_count": null,
      "outputs": []
    },
    {
      "cell_type": "markdown",
      "source": [
        "#Building A Model"
      ],
      "metadata": {
        "id": "8aErxBnvstmV"
      }
    },
    {
      "cell_type": "code",
      "source": [
        "cnn=tf.keras.models.Sequential()"
      ],
      "metadata": {
        "id": "dPxnsRFdsvRw"
      },
      "execution_count": null,
      "outputs": []
    },
    {
      "cell_type": "code",
      "source": [
        "cnn.add(tf.keras.layers.Input(shape = (64 , 64 , 3)))"
      ],
      "metadata": {
        "id": "5Lhp91cKtFrf"
      },
      "execution_count": null,
      "outputs": []
    },
    {
      "cell_type": "markdown",
      "source": [
        "#Building Convulutional Layer\n"
      ],
      "metadata": {
        "id": "tb9dSO-otG6c"
      }
    },
    {
      "cell_type": "code",
      "source": [
        "# cnn.add(tf.keras.layers.Conv2D(filters=64,kernel_size=(3,3) , padding = 'valid' , strides = (2,2),activation='relu'))\n",
        "# cnn.add(tf.keras.layers.MaxPool2D(pool_size=2,strides=2))"
      ],
      "metadata": {
        "id": "-3h_KDmYtJ2W"
      },
      "execution_count": null,
      "outputs": []
    },
    {
      "cell_type": "code",
      "source": [
        "# cnn.add(tf.keras.layers.Conv2D(filters=64,kernel_size=3,activation='relu'))\n",
        "# cnn.add(tf.keras.layers.MaxPool2D(pool_size=2,strides=2))"
      ],
      "metadata": {
        "id": "N3_lYj2RuDiP"
      },
      "execution_count": null,
      "outputs": []
    },
    {
      "cell_type": "code",
      "source": [
        "# cnn.add(tf.keras.layers.Dropout(0.5)) #To avoid overfitting"
      ],
      "metadata": {
        "id": "iR6T64AXuOxj"
      },
      "execution_count": null,
      "outputs": []
    },
    {
      "cell_type": "code",
      "source": [
        "# cnn.add(tf.keras.layers.Flatten())"
      ],
      "metadata": {
        "id": "jMsfBnFjuUr_"
      },
      "execution_count": null,
      "outputs": []
    },
    {
      "cell_type": "code",
      "source": [
        "# cnn.add(tf.keras.layers.Dense(units=128,activation='relu'))"
      ],
      "metadata": {
        "id": "Rt8QI0souhgs"
      },
      "execution_count": null,
      "outputs": []
    },
    {
      "cell_type": "code",
      "source": [
        "# #output layer\n",
        "# cnn.add(tf.keras.layers.Dense(units=36,activation='softmax'))"
      ],
      "metadata": {
        "id": "RyDo0X94unpN"
      },
      "execution_count": null,
      "outputs": []
    },
    {
      "cell_type": "markdown",
      "source": [],
      "metadata": {
        "id": "4xUqUJXLvAX1"
      }
    },
    {
      "cell_type": "code",
      "source": [
        "inputs = layers.Input(shape = (64 , 64 , 3))\n",
        "\n",
        "x = layers.Conv2D(filters = 64 , kernel_size = (3,3)  , activation = 'relu')(inputs)\n",
        "x = layers.MaxPooling2D()(x)\n",
        "x = layers.Conv2D(filters = 64 , kernel_size = (3,3) , activation = 'relu')(x)\n",
        "x = layers.MaxPooling2D()(x)\n",
        "# x = layers.Dropout(0.5)(x)\n",
        "x = layers.Flatten()(x)\n",
        "x = layers.Dense(128 , activation = 'relu')(x)\n",
        "outputs = layers.Dense(36 , activation = 'softmax')(x)\n",
        "\n",
        "\n",
        "model = Model(inputs = inputs , outputs = outputs)"
      ],
      "metadata": {
        "id": "UDpUfHsDNs4L"
      },
      "execution_count": null,
      "outputs": []
    },
    {
      "cell_type": "markdown",
      "source": [
        "#Compiling and Training Phase"
      ],
      "metadata": {
        "id": "2P9Bym4-vIjd"
      }
    },
    {
      "cell_type": "code",
      "source": [
        "model.compile(optimizer='adam',\n",
        "              loss='categorical_crossentropy',\n",
        "              metrics=['accuracy'])\n"
      ],
      "metadata": {
        "id": "B4Eeo4OcvKzt"
      },
      "execution_count": null,
      "outputs": []
    },
    {
      "cell_type": "code",
      "source": [
        "model.summary()"
      ],
      "metadata": {
        "colab": {
          "base_uri": "https://localhost:8080/"
        },
        "id": "dptDMObkqEx4",
        "outputId": "2eabbf9a-3ceb-4b15-c4ef-3528bfbc4fae"
      },
      "execution_count": null,
      "outputs": [
        {
          "output_type": "stream",
          "name": "stdout",
          "text": [
            "Model: \"model_2\"\n",
            "_________________________________________________________________\n",
            " Layer (type)                Output Shape              Param #   \n",
            "=================================================================\n",
            " input_6 (InputLayer)        [(None, 64, 64, 3)]       0         \n",
            "                                                                 \n",
            " conv2d_5 (Conv2D)           (None, 62, 62, 64)        1792      \n",
            "                                                                 \n",
            " max_pooling2d_5 (MaxPoolin  (None, 31, 31, 64)        0         \n",
            " g2D)                                                            \n",
            "                                                                 \n",
            " conv2d_6 (Conv2D)           (None, 29, 29, 64)        36928     \n",
            "                                                                 \n",
            " max_pooling2d_6 (MaxPoolin  (None, 14, 14, 64)        0         \n",
            " g2D)                                                            \n",
            "                                                                 \n",
            " flatten_2 (Flatten)         (None, 12544)             0         \n",
            "                                                                 \n",
            " dense_4 (Dense)             (None, 128)               1605760   \n",
            "                                                                 \n",
            " dense_5 (Dense)             (None, 36)                4644      \n",
            "                                                                 \n",
            "=================================================================\n",
            "Total params: 1649124 (6.29 MB)\n",
            "Trainable params: 1649124 (6.29 MB)\n",
            "Non-trainable params: 0 (0.00 Byte)\n",
            "_________________________________________________________________\n"
          ]
        }
      ]
    },
    {
      "cell_type": "code",
      "source": [],
      "metadata": {
        "id": "h_fDvkrmzCWp"
      },
      "execution_count": null,
      "outputs": []
    },
    {
      "cell_type": "code",
      "source": [
        "training_history = model.fit(x=training_set, validation_data=validation_set, epochs=30)"
      ],
      "metadata": {
        "colab": {
          "base_uri": "https://localhost:8080/"
        },
        "id": "PFkpCyOsw9FF",
        "outputId": "95ee7218-0a88-4b9f-a492-94872a7e4462"
      },
      "execution_count": null,
      "outputs": [
        {
          "output_type": "stream",
          "name": "stdout",
          "text": [
            "Epoch 1/30\n",
            "98/98 [==============================] - 639s 6s/step - loss: 18.9229 - accuracy: 0.0321 - val_loss: 3.5440 - val_accuracy: 0.0684\n",
            "Epoch 2/30\n",
            "98/98 [==============================] - 75s 721ms/step - loss: 3.5089 - accuracy: 0.0604 - val_loss: 3.4653 - val_accuracy: 0.1197\n",
            "Epoch 3/30\n",
            "98/98 [==============================] - 76s 716ms/step - loss: 3.4465 - accuracy: 0.0857 - val_loss: 3.4663 - val_accuracy: 0.1225\n",
            "Epoch 4/30\n",
            "98/98 [==============================] - 78s 725ms/step - loss: 3.3688 - accuracy: 0.1165 - val_loss: 3.1867 - val_accuracy: 0.1880\n",
            "Epoch 5/30\n",
            "98/98 [==============================] - 76s 730ms/step - loss: 3.0994 - accuracy: 0.1971 - val_loss: 3.0085 - val_accuracy: 0.2536\n",
            "Epoch 6/30\n",
            "98/98 [==============================] - 76s 729ms/step - loss: 2.7200 - accuracy: 0.2982 - val_loss: 2.4142 - val_accuracy: 0.4330\n",
            "Epoch 7/30\n",
            "98/98 [==============================] - 85s 816ms/step - loss: 2.3546 - accuracy: 0.3894 - val_loss: 2.0662 - val_accuracy: 0.5242\n",
            "Epoch 8/30\n",
            "98/98 [==============================] - 75s 719ms/step - loss: 1.8937 - accuracy: 0.5114 - val_loss: 1.8727 - val_accuracy: 0.6068\n",
            "Epoch 9/30\n",
            "98/98 [==============================] - 76s 721ms/step - loss: 1.7367 - accuracy: 0.5583 - val_loss: 1.7379 - val_accuracy: 0.6610\n",
            "Epoch 10/30\n",
            "98/98 [==============================] - 75s 725ms/step - loss: 1.4201 - accuracy: 0.6388 - val_loss: 1.2983 - val_accuracy: 0.7578\n",
            "Epoch 11/30\n",
            "98/98 [==============================] - 76s 717ms/step - loss: 1.2991 - accuracy: 0.6761 - val_loss: 1.5311 - val_accuracy: 0.7350\n",
            "Epoch 12/30\n",
            "98/98 [==============================] - 81s 782ms/step - loss: 1.0862 - accuracy: 0.7348 - val_loss: 1.3348 - val_accuracy: 0.7578\n",
            "Epoch 13/30\n",
            "98/98 [==============================] - 77s 728ms/step - loss: 1.0007 - accuracy: 0.7493 - val_loss: 1.2350 - val_accuracy: 0.8006\n",
            "Epoch 14/30\n",
            "98/98 [==============================] - 83s 797ms/step - loss: 0.9046 - accuracy: 0.7875 - val_loss: 1.2551 - val_accuracy: 0.8063\n",
            "Epoch 15/30\n",
            "98/98 [==============================] - 77s 738ms/step - loss: 0.7524 - accuracy: 0.8266 - val_loss: 1.4337 - val_accuracy: 0.7949\n",
            "Epoch 16/30\n",
            "98/98 [==============================] - 77s 741ms/step - loss: 0.6950 - accuracy: 0.8340 - val_loss: 1.4020 - val_accuracy: 0.8262\n",
            "Epoch 17/30\n",
            "98/98 [==============================] - 74s 713ms/step - loss: 0.6408 - accuracy: 0.8475 - val_loss: 1.2836 - val_accuracy: 0.8205\n",
            "Epoch 18/30\n",
            "98/98 [==============================] - 86s 842ms/step - loss: 0.5598 - accuracy: 0.8668 - val_loss: 1.1514 - val_accuracy: 0.8746\n",
            "Epoch 19/30\n",
            "98/98 [==============================] - 75s 707ms/step - loss: 0.5238 - accuracy: 0.8799 - val_loss: 1.4041 - val_accuracy: 0.8490\n",
            "Epoch 20/30\n",
            "98/98 [==============================] - 78s 753ms/step - loss: 0.6089 - accuracy: 0.8504 - val_loss: 1.3894 - val_accuracy: 0.8775\n",
            "Epoch 21/30\n",
            "98/98 [==============================] - 74s 710ms/step - loss: 0.4982 - accuracy: 0.8828 - val_loss: 1.4427 - val_accuracy: 0.8803\n",
            "Epoch 22/30\n",
            "98/98 [==============================] - 77s 733ms/step - loss: 0.4187 - accuracy: 0.9030 - val_loss: 1.1783 - val_accuracy: 0.9060\n",
            "Epoch 23/30\n",
            "98/98 [==============================] - 76s 734ms/step - loss: 0.4118 - accuracy: 0.9011 - val_loss: 1.3402 - val_accuracy: 0.9145\n",
            "Epoch 24/30\n",
            "98/98 [==============================] - 73s 706ms/step - loss: 0.3839 - accuracy: 0.9095 - val_loss: 1.2418 - val_accuracy: 0.9145\n",
            "Epoch 25/30\n",
            "98/98 [==============================] - 77s 732ms/step - loss: 0.2962 - accuracy: 0.9310 - val_loss: 1.1188 - val_accuracy: 0.8917\n",
            "Epoch 26/30\n",
            "98/98 [==============================] - 73s 702ms/step - loss: 0.3042 - accuracy: 0.9294 - val_loss: 1.1123 - val_accuracy: 0.9088\n",
            "Epoch 27/30\n",
            "98/98 [==============================] - 77s 731ms/step - loss: 0.2766 - accuracy: 0.9380 - val_loss: 1.1023 - val_accuracy: 0.8946\n",
            "Epoch 28/30\n",
            "98/98 [==============================] - 75s 728ms/step - loss: 0.2755 - accuracy: 0.9335 - val_loss: 1.0220 - val_accuracy: 0.9202\n",
            "Epoch 29/30\n",
            "98/98 [==============================] - 76s 723ms/step - loss: 0.2903 - accuracy: 0.9278 - val_loss: 1.2065 - val_accuracy: 0.9202\n",
            "Epoch 30/30\n",
            "98/98 [==============================] - 76s 736ms/step - loss: 0.3601 - accuracy: 0.9136 - val_loss: 1.1707 - val_accuracy: 0.9117\n"
          ]
        }
      ]
    },
    {
      "cell_type": "code",
      "source": [],
      "metadata": {
        "id": "qNpfeMzHxzks"
      },
      "execution_count": null,
      "outputs": []
    },
    {
      "cell_type": "markdown",
      "source": [
        "#Saving Mode;l"
      ],
      "metadata": {
        "id": "rtf2k95HEANq"
      }
    },
    {
      "cell_type": "code",
      "source": [
        "# model.save('trained_model.h5')"
      ],
      "metadata": {
        "id": "ubl0xqniEB-Y"
      },
      "execution_count": null,
      "outputs": []
    },
    {
      "cell_type": "code",
      "source": [
        "training_history.history"
      ],
      "metadata": {
        "colab": {
          "base_uri": "https://localhost:8080/"
        },
        "id": "YFdqqczeEHVg",
        "outputId": "15aeba25-819a-4eca-96d1-aea0582053d5"
      },
      "execution_count": null,
      "outputs": [
        {
          "output_type": "execute_result",
          "data": {
            "text/plain": [
              "{'loss': [6.689720630645752,\n",
              "  4.398435115814209,\n",
              "  3.6610770225524902,\n",
              "  3.665220022201538,\n",
              "  3.1569008827209473,\n",
              "  2.908301830291748,\n",
              "  2.74015474319458,\n",
              "  3.2603914737701416,\n",
              "  2.4025838375091553,\n",
              "  2.2806994915008545,\n",
              "  2.0098907947540283,\n",
              "  1.655951976776123,\n",
              "  1.5167149305343628,\n",
              "  1.3776293992996216,\n",
              "  1.4376916885375977,\n",
              "  1.1791131496429443,\n",
              "  1.4812026023864746,\n",
              "  1.1264876127243042,\n",
              "  1.0432990789413452,\n",
              "  1.0428425073623657,\n",
              "  1.0412108898162842,\n",
              "  1.0189512968063354,\n",
              "  1.0240057706832886,\n",
              "  0.8539509177207947,\n",
              "  0.7861953377723694,\n",
              "  0.7649301290512085,\n",
              "  0.8236211538314819,\n",
              "  0.7450425028800964,\n",
              "  0.7703741192817688,\n",
              "  0.7556395530700684],\n",
              " 'accuracy': [0.04398074001073837,\n",
              "  0.06420546025037766,\n",
              "  0.11332263052463531,\n",
              "  0.1556982398033142,\n",
              "  0.23274478316307068,\n",
              "  0.29695025086402893,\n",
              "  0.35345104336738586,\n",
              "  0.42664527893066406,\n",
              "  0.46902087330818176,\n",
              "  0.5146067142486572,\n",
              "  0.5656501054763794,\n",
              "  0.6282504200935364,\n",
              "  0.6587479710578918,\n",
              "  0.6895666122436523,\n",
              "  0.7094703316688538,\n",
              "  0.745746374130249,\n",
              "  0.7499197721481323,\n",
              "  0.7791332006454468,\n",
              "  0.7855537533760071,\n",
              "  0.7929373979568481,\n",
              "  0.80738365650177,\n",
              "  0.8032102584838867,\n",
              "  0.8231139779090881,\n",
              "  0.838523268699646,\n",
              "  0.8500802516937256,\n",
              "  0.8500802516937256,\n",
              "  0.8590690493583679,\n",
              "  0.867415726184845,\n",
              "  0.8680577874183655,\n",
              "  0.8757624626159668],\n",
              " 'val_loss': [3.5440990924835205,\n",
              "  3.363309860229492,\n",
              "  2.8267199993133545,\n",
              "  2.659914016723633,\n",
              "  2.823977470397949,\n",
              "  2.3196420669555664,\n",
              "  2.328575372695923,\n",
              "  5.962830066680908,\n",
              "  1.781523585319519,\n",
              "  1.9173579216003418,\n",
              "  1.7600523233413696,\n",
              "  1.3432201147079468,\n",
              "  1.1734700202941895,\n",
              "  1.1605143547058105,\n",
              "  1.1146408319473267,\n",
              "  1.3972712755203247,\n",
              "  1.065653920173645,\n",
              "  1.1553523540496826,\n",
              "  1.219560146331787,\n",
              "  1.2345103025436401,\n",
              "  1.1904468536376953,\n",
              "  2.846316337585449,\n",
              "  1.0364046096801758,\n",
              "  1.15984308719635,\n",
              "  1.2813029289245605,\n",
              "  1.0355650186538696,\n",
              "  0.8974442481994629,\n",
              "  2.020122766494751,\n",
              "  1.2858936786651611,\n",
              "  3.447587013244629],\n",
              " 'val_accuracy': [0.04273504391312599,\n",
              "  0.14529915153980255,\n",
              "  0.34472933411598206,\n",
              "  0.37037035822868347,\n",
              "  0.3276353180408478,\n",
              "  0.4159544110298157,\n",
              "  0.47578346729278564,\n",
              "  0.34188035130500793,\n",
              "  0.6381766200065613,\n",
              "  0.56695157289505,\n",
              "  0.6894586682319641,\n",
              "  0.7606837749481201,\n",
              "  0.809116780757904,\n",
              "  0.8547008633613586,\n",
              "  0.8034188151359558,\n",
              "  0.8376068472862244,\n",
              "  0.9031339287757874,\n",
              "  0.9145299196243286,\n",
              "  0.8717948794364929,\n",
              "  0.8803418874740601,\n",
              "  0.9145299196243286,\n",
              "  0.7806267738342285,\n",
              "  0.9002848863601685,\n",
              "  0.94017094373703,\n",
              "  0.94017094373703,\n",
              "  0.945868968963623,\n",
              "  0.945868968963623,\n",
              "  0.8803418874740601,\n",
              "  0.945868968963623,\n",
              "  0.7321937084197998]}"
            ]
          },
          "metadata": {},
          "execution_count": 19
        }
      ]
    },
    {
      "cell_type": "markdown",
      "source": [
        "#Recording History"
      ],
      "metadata": {
        "id": "Jlz6pd-dEMER"
      }
    },
    {
      "cell_type": "code",
      "source": [
        "import json\n",
        "with open('training_history.json','w') as f:\n",
        "  json.dump(training_history.history,f)\n"
      ],
      "metadata": {
        "id": "xpHOstfVEOBF"
      },
      "execution_count": null,
      "outputs": []
    },
    {
      "cell_type": "code",
      "source": [
        "print(training_history.history.keys())\n"
      ],
      "metadata": {
        "colab": {
          "base_uri": "https://localhost:8080/"
        },
        "id": "Kr_6_wMlPUed",
        "outputId": "b1557b6a-7147-4a3b-a058-1525129a92b7"
      },
      "execution_count": null,
      "outputs": [
        {
          "output_type": "stream",
          "name": "stdout",
          "text": [
            "dict_keys(['loss', 'accuracy', 'val_loss', 'val_accuracy'])\n"
          ]
        }
      ]
    },
    {
      "cell_type": "code",
      "source": [],
      "metadata": {
        "id": "4wNwpUhtQE6J"
      },
      "execution_count": null,
      "outputs": []
    },
    {
      "cell_type": "markdown",
      "source": [
        "#Calculating accuracy of model achieved on Validation Set"
      ],
      "metadata": {
        "id": "CkfOZpBOQJLS"
      }
    },
    {
      "cell_type": "code",
      "source": [
        "print(\"Validation Set Acuuracy: {} %\".format(training_history.history['val_accuracy'][-1]*100))"
      ],
      "metadata": {
        "colab": {
          "base_uri": "https://localhost:8080/"
        },
        "id": "c3jcxaKDQN2u",
        "outputId": "03c2f5a9-d0fc-47df-9a2c-3d5561464e07"
      },
      "execution_count": null,
      "outputs": [
        {
          "output_type": "stream",
          "name": "stdout",
          "text": [
            "Validation Set Acuuracy: 73.21937084197998 %\n"
          ]
        }
      ]
    },
    {
      "cell_type": "code",
      "source": [],
      "metadata": {
        "id": "0OdtRRDGQS-D"
      },
      "execution_count": null,
      "outputs": []
    },
    {
      "cell_type": "markdown",
      "source": [
        "#Accuracy Visualization"
      ],
      "metadata": {
        "id": "Ou9USQEfT5h_"
      }
    },
    {
      "cell_type": "code",
      "source": [
        "#Training Visualization"
      ],
      "metadata": {
        "id": "VXYPI-v5T8dv"
      },
      "execution_count": null,
      "outputs": []
    },
    {
      "cell_type": "code",
      "source": [
        "epochs=[i for i in range(1,31)]\n",
        "plt.plot(epochs,training_history.history['accuracy'],color='red')\n",
        "plt.xlabel(\"No. of Epochs\")\n",
        "plt.ylabel(\"Training Accuracy\")\n",
        "plt.title(\"Vizualization of Training Accuracy Result \")\n",
        "plt.show()"
      ],
      "metadata": {
        "colab": {
          "base_uri": "https://localhost:8080/",
          "height": 472
        },
        "id": "xq8eNVMQT-6R",
        "outputId": "62fb085c-74fe-4af1-df47-85179e6a9cef"
      },
      "execution_count": null,
      "outputs": [
        {
          "output_type": "display_data",
          "data": {
            "text/plain": [
              "<Figure size 640x480 with 1 Axes>"
            ],
            "image/png": "[encoded data removed]"
          },
          "metadata": {}
        }
      ]
    },
    {
      "cell_type": "code",
      "source": [],
      "metadata": {
        "id": "TwZ2cpu1VAYh"
      },
      "execution_count": null,
      "outputs": []
    },
    {
      "cell_type": "markdown",
      "source": [
        "#Validation Accuracy"
      ],
      "metadata": {
        "id": "1vJHFCzYYIqv"
      }
    },
    {
      "cell_type": "code",
      "source": [
        "plt.plot(epochs,training_history.history['val_accuracy'],color='blue')\n",
        "plt.xlabel(\"No. of Epochs\")\n",
        "plt.ylabel(\"Validation Accuracy\")\n",
        "plt.title(\"Vizualization of Validation Accuracy Result \")\n",
        "plt.show()"
      ],
      "metadata": {
        "colab": {
          "base_uri": "https://localhost:8080/",
          "height": 472
        },
        "id": "39JGBm6KVBt_",
        "outputId": "53ea09db-1825-4f8e-cd58-1265a981260e"
      },
      "execution_count": null,
      "outputs": [
        {
          "output_type": "display_data",
          "data": {
            "text/plain": [
              "<Figure size 640x480 with 1 Axes>"
            ],
            "image/png": "[encoded data removed]"
          },
          "metadata": {}
        }
      ]
    },
    {
      "cell_type": "code",
      "source": [
        "training_loss,training_accuracy=cnn.evaluate(training_set)"
      ],
      "metadata": {
        "colab": {
          "base_uri": "https://localhost:8080/"
        },
        "id": "Ty6N85DkYbeo",
        "outputId": "1d7d06e7-9b71-46cd-a2be-e92eb6c7dc18"
      },
      "execution_count": null,
      "outputs": [
        {
          "output_type": "stream",
          "name": "stdout",
          "text": [
            "98/98 [==============================] - 87s 813ms/step - loss: 2.0226 - accuracy: 0.7445\n"
          ]
        }
      ]
    },
    {
      "cell_type": "code",
      "source": [
        "val_loss,val_accuracy=cnn.evaluate(validation_set)"
      ],
      "metadata": {
        "colab": {
          "base_uri": "https://localhost:8080/"
        },
        "id": "OHqjFC2Uq4u2",
        "outputId": "b526a319-865f-4b91-ba88-bc0b3158d822"
      },
      "execution_count": null,
      "outputs": [
        {
          "output_type": "stream",
          "name": "stdout",
          "text": [
            "11/11 [==============================] - 12s 258ms/step - loss: 3.4476 - accuracy: 0.7322\n"
          ]
        }
      ]
    },
    {
      "cell_type": "code",
      "source": [],
      "metadata": {
        "id": "P_1bbanwq8Cg"
      },
      "execution_count": null,
      "outputs": []
    },
    {
      "cell_type": "markdown",
      "source": [
        "#Test Set Evaluation"
      ],
      "metadata": {
        "id": "QPMg6rsnrDRT"
      }
    },
    {
      "cell_type": "code",
      "source": [
        "test_set=tf.keras.utils.image_dataset_from_directory(\n",
        "    '/content/drive/MyDrive/Fruit_Vegetable_Recognition/test',\n",
        "    labels='inferred',\n",
        "    label_mode='categorical',\n",
        "    class_names=None,\n",
        "    color_mode='rgb',\n",
        "    batch_size=32,\n",
        "    image_size=(64,64),\n",
        "    shuffle=True,\n",
        "    seed=None,\n",
        "    validation_split=None,\n",
        "    subset=None,\n",
        "    interpolation='bilinear',\n",
        "    follow_links=False,\n",
        "    crop_to_aspect_ratio=False\n",
        ")"
      ],
      "metadata": {
        "colab": {
          "base_uri": "https://localhost:8080/"
        },
        "id": "tKlNUTpFrFh2",
        "outputId": "404ce014-1578-48ea-b99a-f070307aea15"
      },
      "execution_count": null,
      "outputs": [
        {
          "output_type": "stream",
          "name": "stdout",
          "text": [
            "Found 359 files belonging to 36 classes.\n"
          ]
        },
        {
          "output_type": "stream",
          "name": "stderr",
          "text": [
            "/usr/local/lib/python3.10/dist-packages/tensorflow/python/data/ops/structured_function.py:258: UserWarning: Even though the `tf.config.experimental_run_functions_eagerly` option is set, this option does not apply to tf.data functions. To force eager execution of tf.data functions, please use `tf.data.experimental.enable_debug_mode()`.\n",
            "  warnings.warn(\n"
          ]
        }
      ]
    },
    {
      "cell_type": "code",
      "source": [
        "test_loss,test_accuracy=cnn.evaluate(test_set)"
      ],
      "metadata": {
        "colab": {
          "base_uri": "https://localhost:8080/"
        },
        "id": "I9X5VBJIssnN",
        "outputId": "f4dc7aa1-26ce-48b9-c6de-dfea5d86cf76"
      },
      "execution_count": null,
      "outputs": [
        {
          "output_type": "stream",
          "name": "stdout",
          "text": [
            "12/12 [==============================] - 66s 1s/step - loss: 3.3982 - accuracy: 0.7354\n"
          ]
        }
      ]
    },
    {
      "cell_type": "code",
      "source": [],
      "metadata": {
        "id": "uEb27KTUswI7"
      },
      "execution_count": null,
      "outputs": []
    }
  ]
}